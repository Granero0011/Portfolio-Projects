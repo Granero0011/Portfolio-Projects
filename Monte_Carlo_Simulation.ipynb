{
  "nbformat": 4,
  "nbformat_minor": 0,
  "metadata": {
    "colab": {
      "name": "Monte Carlo Simulation",
      "version": "0.3.2",
      "provenance": [],
      "include_colab_link": true
    },
    "kernelspec": {
      "name": "python3",
      "display_name": "Python 3"
    }
  },
  "cells": [
    {
      "cell_type": "markdown",
      "metadata": {
        "id": "view-in-github",
        "colab_type": "text"
      },
      "source": [
        "<a href=\"https://colab.research.google.com/github/Granero0011/Portfolio-Projects/blob/master/Monte_Carlo_Simulation.ipynb\" target=\"_parent\"><img src=\"https://colab.research.google.com/assets/colab-badge.svg\" alt=\"Open In Colab\"/></a>"
      ]
    },
    {
      "cell_type": "code",
      "metadata": {
        "id": "PUd3C62PaZg0",
        "colab_type": "code",
        "colab": {
          "base_uri": "https://localhost:8080/",
          "height": 367
        },
        "outputId": "8cd356d7-7d52-4a6a-8246-034f9cd0441b"
      },
      "source": [
        "from bsm_functions import bsm_call_value\n",
        "S0 = 100.\n",
        "K = 105.\n",
        "T = 1.0\n",
        "r = 0.05\n",
        "sigma = 0.2\n",
        "bsm_call_value(S0, K, T, r, sigma)"
      ],
      "execution_count": 1,
      "outputs": [
        {
          "output_type": "error",
          "ename": "ModuleNotFoundError",
          "evalue": "ignored",
          "traceback": [
            "\u001b[0;31m---------------------------------------------------------------------------\u001b[0m",
            "\u001b[0;31mModuleNotFoundError\u001b[0m                       Traceback (most recent call last)",
            "\u001b[0;32m<ipython-input-1-6f94828fff87>\u001b[0m in \u001b[0;36m<module>\u001b[0;34m()\u001b[0m\n\u001b[0;32m----> 1\u001b[0;31m \u001b[0;32mfrom\u001b[0m \u001b[0mbsm_functions\u001b[0m \u001b[0;32mimport\u001b[0m \u001b[0mbsm_call_value\u001b[0m\u001b[0;34m\u001b[0m\u001b[0;34m\u001b[0m\u001b[0m\n\u001b[0m\u001b[1;32m      2\u001b[0m \u001b[0mS0\u001b[0m \u001b[0;34m=\u001b[0m \u001b[0;36m100.\u001b[0m\u001b[0;34m\u001b[0m\u001b[0;34m\u001b[0m\u001b[0m\n\u001b[1;32m      3\u001b[0m \u001b[0mK\u001b[0m \u001b[0;34m=\u001b[0m \u001b[0;36m105.\u001b[0m\u001b[0;34m\u001b[0m\u001b[0;34m\u001b[0m\u001b[0m\n\u001b[1;32m      4\u001b[0m \u001b[0mT\u001b[0m \u001b[0;34m=\u001b[0m \u001b[0;36m1.0\u001b[0m\u001b[0;34m\u001b[0m\u001b[0;34m\u001b[0m\u001b[0m\n\u001b[1;32m      5\u001b[0m \u001b[0mr\u001b[0m \u001b[0;34m=\u001b[0m \u001b[0;36m0.05\u001b[0m\u001b[0;34m\u001b[0m\u001b[0;34m\u001b[0m\u001b[0m\n",
            "\u001b[0;31mModuleNotFoundError\u001b[0m: No module named 'bsm_functions'",
            "",
            "\u001b[0;31m---------------------------------------------------------------------------\u001b[0;32m\nNOTE: If your import is failing due to a missing package, you can\nmanually install dependencies using either !pip or !apt.\n\nTo view examples of installing some common dependencies, click the\n\"Open Examples\" button below.\n\u001b[0;31m---------------------------------------------------------------------------\u001b[0m\n"
          ]
        }
      ]
    },
    {
      "cell_type": "code",
      "metadata": {
        "id": "jxRMU0LNbI4h",
        "colab_type": "code",
        "colab": {
          "base_uri": "https://localhost:8080/",
          "height": 68
        },
        "outputId": "94344672-9b76-433b-cf79-a604928b2922"
      },
      "source": [
        "pip install bsm_fuctions"
      ],
      "execution_count": 3,
      "outputs": [
        {
          "output_type": "stream",
          "text": [
            "Collecting bsm_fuctions\n",
            "\u001b[31m  ERROR: Could not find a version that satisfies the requirement bsm_fuctions (from versions: none)\u001b[0m\n",
            "\u001b[31mERROR: No matching distribution found for bsm_fuctions\u001b[0m\n"
          ],
          "name": "stdout"
        }
      ]
    },
    {
      "cell_type": "code",
      "metadata": {
        "id": "BEYheWO7bDI6",
        "colab_type": "code",
        "colab": {
          "base_uri": "https://localhost:8080/",
          "height": 129
        },
        "outputId": "144e4be7-afb8-43ce-fc76-71251f586bca"
      },
      "source": [
        "from time import time\n",
        "from math import exp, sqrt, log\n",
        "from random import gauss, seed\n",
        "seed(20000)\n",
        "t0 = time()\n",
        "# Parameters\n",
        "S0 = 100. # initial value\n",
        "K = 105. # strike price\n",
        "T = 1.0 # maturity\n",
        "r = 0.05 # riskless short rate\n",
        "sigma = 0.2 # volatility\n",
        "M = 50 # number of time steps\n",
        "dt = T / M # length of time interval\n",
        "I = 250000 # number of paths\n",
        "# Simulating I paths with M time steps\n",
        "S = []\n",
        "for i in range(I):\n",
        "path = []\n",
        "for t in range(M + 1):\n",
        "if t == 0:\n",
        "path.append(S0)\n",
        "else:\n",
        "z = gauss(0.0, 1.0)\n",
        "St = path[t - 1] * exp((r - 0.5 * sigma ** 2) * dt\n",
        "+ sigma * sqrt(dt) * z)\n",
        "path.append(St)\n",
        "S.append(path)\n",
        "# Calculating the Monte Carlo estimator\n",
        "C0 = exp(-r * T) * sum([max(path[-1] - K, 0) for path in S]) / I\n",
        "# Results output\n",
        "tpy = time() - t0\n",
        "print “European Option Value %7.3f” % C0\n",
        "print “Duration in Seconds %7.3f” % tpy"
      ],
      "execution_count": 2,
      "outputs": [
        {
          "output_type": "error",
          "ename": "IndentationError",
          "evalue": "ignored",
          "traceback": [
            "\u001b[0;36m  File \u001b[0;32m\"<ipython-input-2-eacb60943206>\"\u001b[0;36m, line \u001b[0;32m18\u001b[0m\n\u001b[0;31m    path = []\u001b[0m\n\u001b[0m       ^\u001b[0m\n\u001b[0;31mIndentationError\u001b[0m\u001b[0;31m:\u001b[0m expected an indented block\n"
          ]
        }
      ]
    },
    {
      "cell_type": "code",
      "metadata": {
        "id": "CEHe4JcmbGOy",
        "colab_type": "code",
        "colab": {}
      },
      "source": [
        ""
      ],
      "execution_count": 0,
      "outputs": []
    }
  ]
}